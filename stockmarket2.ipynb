{
  "nbformat": 4,
  "nbformat_minor": 0,
  "metadata": {
    "colab": {
      "name": "stockmarket2.ipynb",
      "provenance": [],
      "collapsed_sections": []
    },
    "kernelspec": {
      "name": "python3",
      "display_name": "Python 3"
    },
    "language_info": {
      "name": "python"
    }
  },
  "cells": [
    {
      "cell_type": "code",
      "execution_count": null,
      "metadata": {
        "id": "HnOQ2G-rga8R"
      },
      "outputs": [],
      "source": [
        "import pandas as pd\n",
        "import numpy as np\n",
        "import math\n",
        "import matplotlib.pyplot as plt\n",
        "import tensorflow as tf\n",
        "from sklearn.metrics import mean_squared_error\n",
        "from tensorflow.keras.models import Sequential\n",
        "from tensorflow.keras.layers import LSTM,Dense "
      ]
    },
    {
      "cell_type": "code",
      "source": [
        "data = pd.read_csv('GOOG.csv')\n",
        "data.head()"
      ],
      "metadata": {
        "colab": {
          "base_uri": "https://localhost:8080/",
          "height": 206
        },
        "id": "e7uVURtLgp-T",
        "outputId": "9fd4ce67-b9b9-4f2b-a228-4c458112be61"
      },
      "execution_count": null,
      "outputs": [
        {
          "output_type": "execute_result",
          "data": {
            "text/plain": [
              "         Date         Open         High          Low        Close  \\\n",
              "0  2020-12-07  1819.000000  1832.369995  1805.780029  1819.479980   \n",
              "1  2020-12-08  1810.099976  1821.900024  1796.204956  1818.550049   \n",
              "2  2020-12-09  1812.010010  1834.270020  1767.810059  1784.130005   \n",
              "3  2020-12-10  1769.800049  1781.310059  1740.319946  1775.329956   \n",
              "4  2020-12-11  1763.060059  1784.449951  1760.000000  1781.770020   \n",
              "\n",
              "     Adj Close   Volume  \n",
              "0  1819.479980  1320900  \n",
              "1  1818.550049  1096300  \n",
              "2  1784.130005  1507600  \n",
              "3  1775.329956  1362800  \n",
              "4  1781.770020  1220700  "
            ],
            "text/html": [
              "\n",
              "  <div id=\"df-644fdf33-03e9-45ac-9654-9867b7847ad7\">\n",
              "    <div class=\"colab-df-container\">\n",
              "      <div>\n",
              "<style scoped>\n",
              "    .dataframe tbody tr th:only-of-type {\n",
              "        vertical-align: middle;\n",
              "    }\n",
              "\n",
              "    .dataframe tbody tr th {\n",
              "        vertical-align: top;\n",
              "    }\n",
              "\n",
              "    .dataframe thead th {\n",
              "        text-align: right;\n",
              "    }\n",
              "</style>\n",
              "<table border=\"1\" class=\"dataframe\">\n",
              "  <thead>\n",
              "    <tr style=\"text-align: right;\">\n",
              "      <th></th>\n",
              "      <th>Date</th>\n",
              "      <th>Open</th>\n",
              "      <th>High</th>\n",
              "      <th>Low</th>\n",
              "      <th>Close</th>\n",
              "      <th>Adj Close</th>\n",
              "      <th>Volume</th>\n",
              "    </tr>\n",
              "  </thead>\n",
              "  <tbody>\n",
              "    <tr>\n",
              "      <th>0</th>\n",
              "      <td>2020-12-07</td>\n",
              "      <td>1819.000000</td>\n",
              "      <td>1832.369995</td>\n",
              "      <td>1805.780029</td>\n",
              "      <td>1819.479980</td>\n",
              "      <td>1819.479980</td>\n",
              "      <td>1320900</td>\n",
              "    </tr>\n",
              "    <tr>\n",
              "      <th>1</th>\n",
              "      <td>2020-12-08</td>\n",
              "      <td>1810.099976</td>\n",
              "      <td>1821.900024</td>\n",
              "      <td>1796.204956</td>\n",
              "      <td>1818.550049</td>\n",
              "      <td>1818.550049</td>\n",
              "      <td>1096300</td>\n",
              "    </tr>\n",
              "    <tr>\n",
              "      <th>2</th>\n",
              "      <td>2020-12-09</td>\n",
              "      <td>1812.010010</td>\n",
              "      <td>1834.270020</td>\n",
              "      <td>1767.810059</td>\n",
              "      <td>1784.130005</td>\n",
              "      <td>1784.130005</td>\n",
              "      <td>1507600</td>\n",
              "    </tr>\n",
              "    <tr>\n",
              "      <th>3</th>\n",
              "      <td>2020-12-10</td>\n",
              "      <td>1769.800049</td>\n",
              "      <td>1781.310059</td>\n",
              "      <td>1740.319946</td>\n",
              "      <td>1775.329956</td>\n",
              "      <td>1775.329956</td>\n",
              "      <td>1362800</td>\n",
              "    </tr>\n",
              "    <tr>\n",
              "      <th>4</th>\n",
              "      <td>2020-12-11</td>\n",
              "      <td>1763.060059</td>\n",
              "      <td>1784.449951</td>\n",
              "      <td>1760.000000</td>\n",
              "      <td>1781.770020</td>\n",
              "      <td>1781.770020</td>\n",
              "      <td>1220700</td>\n",
              "    </tr>\n",
              "  </tbody>\n",
              "</table>\n",
              "</div>\n",
              "      <button class=\"colab-df-convert\" onclick=\"convertToInteractive('df-644fdf33-03e9-45ac-9654-9867b7847ad7')\"\n",
              "              title=\"Convert this dataframe to an interactive table.\"\n",
              "              style=\"display:none;\">\n",
              "        \n",
              "  <svg xmlns=\"http://www.w3.org/2000/svg\" height=\"24px\"viewBox=\"0 0 24 24\"\n",
              "       width=\"24px\">\n",
              "    <path d=\"M0 0h24v24H0V0z\" fill=\"none\"/>\n",
              "    <path d=\"M18.56 5.44l.94 2.06.94-2.06 2.06-.94-2.06-.94-.94-2.06-.94 2.06-2.06.94zm-11 1L8.5 8.5l.94-2.06 2.06-.94-2.06-.94L8.5 2.5l-.94 2.06-2.06.94zm10 10l.94 2.06.94-2.06 2.06-.94-2.06-.94-.94-2.06-.94 2.06-2.06.94z\"/><path d=\"M17.41 7.96l-1.37-1.37c-.4-.4-.92-.59-1.43-.59-.52 0-1.04.2-1.43.59L10.3 9.45l-7.72 7.72c-.78.78-.78 2.05 0 2.83L4 21.41c.39.39.9.59 1.41.59.51 0 1.02-.2 1.41-.59l7.78-7.78 2.81-2.81c.8-.78.8-2.07 0-2.86zM5.41 20L4 18.59l7.72-7.72 1.47 1.35L5.41 20z\"/>\n",
              "  </svg>\n",
              "      </button>\n",
              "      \n",
              "  <style>\n",
              "    .colab-df-container {\n",
              "      display:flex;\n",
              "      flex-wrap:wrap;\n",
              "      gap: 12px;\n",
              "    }\n",
              "\n",
              "    .colab-df-convert {\n",
              "      background-color: #E8F0FE;\n",
              "      border: none;\n",
              "      border-radius: 50%;\n",
              "      cursor: pointer;\n",
              "      display: none;\n",
              "      fill: #1967D2;\n",
              "      height: 32px;\n",
              "      padding: 0 0 0 0;\n",
              "      width: 32px;\n",
              "    }\n",
              "\n",
              "    .colab-df-convert:hover {\n",
              "      background-color: #E2EBFA;\n",
              "      box-shadow: 0px 1px 2px rgba(60, 64, 67, 0.3), 0px 1px 3px 1px rgba(60, 64, 67, 0.15);\n",
              "      fill: #174EA6;\n",
              "    }\n",
              "\n",
              "    [theme=dark] .colab-df-convert {\n",
              "      background-color: #3B4455;\n",
              "      fill: #D2E3FC;\n",
              "    }\n",
              "\n",
              "    [theme=dark] .colab-df-convert:hover {\n",
              "      background-color: #434B5C;\n",
              "      box-shadow: 0px 1px 3px 1px rgba(0, 0, 0, 0.15);\n",
              "      filter: drop-shadow(0px 1px 2px rgba(0, 0, 0, 0.3));\n",
              "      fill: #FFFFFF;\n",
              "    }\n",
              "  </style>\n",
              "\n",
              "      <script>\n",
              "        const buttonEl =\n",
              "          document.querySelector('#df-644fdf33-03e9-45ac-9654-9867b7847ad7 button.colab-df-convert');\n",
              "        buttonEl.style.display =\n",
              "          google.colab.kernel.accessAllowed ? 'block' : 'none';\n",
              "\n",
              "        async function convertToInteractive(key) {\n",
              "          const element = document.querySelector('#df-644fdf33-03e9-45ac-9654-9867b7847ad7');\n",
              "          const dataTable =\n",
              "            await google.colab.kernel.invokeFunction('convertToInteractive',\n",
              "                                                     [key], {});\n",
              "          if (!dataTable) return;\n",
              "\n",
              "          const docLinkHtml = 'Like what you see? Visit the ' +\n",
              "            '<a target=\"_blank\" href=https://colab.research.google.com/notebooks/data_table.ipynb>data table notebook</a>'\n",
              "            + ' to learn more about interactive tables.';\n",
              "          element.innerHTML = '';\n",
              "          dataTable['output_type'] = 'display_data';\n",
              "          await google.colab.output.renderOutput(dataTable, element);\n",
              "          const docLink = document.createElement('div');\n",
              "          docLink.innerHTML = docLinkHtml;\n",
              "          element.appendChild(docLink);\n",
              "        }\n",
              "      </script>\n",
              "    </div>\n",
              "  </div>\n",
              "  "
            ]
          },
          "metadata": {},
          "execution_count": 3
        }
      ]
    },
    {
      "cell_type": "code",
      "source": [
        "data.tail()"
      ],
      "metadata": {
        "colab": {
          "base_uri": "https://localhost:8080/",
          "height": 206
        },
        "id": "VpAWb8Y0gqA7",
        "outputId": "797ef75e-470b-4045-f0d3-f5d965c30309"
      },
      "execution_count": null,
      "outputs": [
        {
          "output_type": "execute_result",
          "data": {
            "text/plain": [
              "           Date         Open         High          Low        Close  \\\n",
              "246  2021-11-29  2885.969971  2937.239990  2885.969971  2922.280029   \n",
              "247  2021-11-30  2909.004883  2932.570068  2841.320068  2849.040039   \n",
              "248  2021-12-01  2884.250000  2929.982910  2830.000000  2832.360107   \n",
              "249  2021-12-02  2836.479980  2893.500000  2819.639893  2875.530029   \n",
              "250  2021-12-03  2889.909912  2904.260010  2823.000000  2850.409912   \n",
              "\n",
              "       Adj Close   Volume  \n",
              "246  2922.280029  1313800  \n",
              "247  2849.040039  2079500  \n",
              "248  2832.360107  1423800  \n",
              "249  2875.530029  1062500  \n",
              "250  2850.409912  1333800  "
            ],
            "text/html": [
              "\n",
              "  <div id=\"df-49f81be1-50b4-4eef-b66c-d3eddc3c63b8\">\n",
              "    <div class=\"colab-df-container\">\n",
              "      <div>\n",
              "<style scoped>\n",
              "    .dataframe tbody tr th:only-of-type {\n",
              "        vertical-align: middle;\n",
              "    }\n",
              "\n",
              "    .dataframe tbody tr th {\n",
              "        vertical-align: top;\n",
              "    }\n",
              "\n",
              "    .dataframe thead th {\n",
              "        text-align: right;\n",
              "    }\n",
              "</style>\n",
              "<table border=\"1\" class=\"dataframe\">\n",
              "  <thead>\n",
              "    <tr style=\"text-align: right;\">\n",
              "      <th></th>\n",
              "      <th>Date</th>\n",
              "      <th>Open</th>\n",
              "      <th>High</th>\n",
              "      <th>Low</th>\n",
              "      <th>Close</th>\n",
              "      <th>Adj Close</th>\n",
              "      <th>Volume</th>\n",
              "    </tr>\n",
              "  </thead>\n",
              "  <tbody>\n",
              "    <tr>\n",
              "      <th>246</th>\n",
              "      <td>2021-11-29</td>\n",
              "      <td>2885.969971</td>\n",
              "      <td>2937.239990</td>\n",
              "      <td>2885.969971</td>\n",
              "      <td>2922.280029</td>\n",
              "      <td>2922.280029</td>\n",
              "      <td>1313800</td>\n",
              "    </tr>\n",
              "    <tr>\n",
              "      <th>247</th>\n",
              "      <td>2021-11-30</td>\n",
              "      <td>2909.004883</td>\n",
              "      <td>2932.570068</td>\n",
              "      <td>2841.320068</td>\n",
              "      <td>2849.040039</td>\n",
              "      <td>2849.040039</td>\n",
              "      <td>2079500</td>\n",
              "    </tr>\n",
              "    <tr>\n",
              "      <th>248</th>\n",
              "      <td>2021-12-01</td>\n",
              "      <td>2884.250000</td>\n",
              "      <td>2929.982910</td>\n",
              "      <td>2830.000000</td>\n",
              "      <td>2832.360107</td>\n",
              "      <td>2832.360107</td>\n",
              "      <td>1423800</td>\n",
              "    </tr>\n",
              "    <tr>\n",
              "      <th>249</th>\n",
              "      <td>2021-12-02</td>\n",
              "      <td>2836.479980</td>\n",
              "      <td>2893.500000</td>\n",
              "      <td>2819.639893</td>\n",
              "      <td>2875.530029</td>\n",
              "      <td>2875.530029</td>\n",
              "      <td>1062500</td>\n",
              "    </tr>\n",
              "    <tr>\n",
              "      <th>250</th>\n",
              "      <td>2021-12-03</td>\n",
              "      <td>2889.909912</td>\n",
              "      <td>2904.260010</td>\n",
              "      <td>2823.000000</td>\n",
              "      <td>2850.409912</td>\n",
              "      <td>2850.409912</td>\n",
              "      <td>1333800</td>\n",
              "    </tr>\n",
              "  </tbody>\n",
              "</table>\n",
              "</div>\n",
              "      <button class=\"colab-df-convert\" onclick=\"convertToInteractive('df-49f81be1-50b4-4eef-b66c-d3eddc3c63b8')\"\n",
              "              title=\"Convert this dataframe to an interactive table.\"\n",
              "              style=\"display:none;\">\n",
              "        \n",
              "  <svg xmlns=\"http://www.w3.org/2000/svg\" height=\"24px\"viewBox=\"0 0 24 24\"\n",
              "       width=\"24px\">\n",
              "    <path d=\"M0 0h24v24H0V0z\" fill=\"none\"/>\n",
              "    <path d=\"M18.56 5.44l.94 2.06.94-2.06 2.06-.94-2.06-.94-.94-2.06-.94 2.06-2.06.94zm-11 1L8.5 8.5l.94-2.06 2.06-.94-2.06-.94L8.5 2.5l-.94 2.06-2.06.94zm10 10l.94 2.06.94-2.06 2.06-.94-2.06-.94-.94-2.06-.94 2.06-2.06.94z\"/><path d=\"M17.41 7.96l-1.37-1.37c-.4-.4-.92-.59-1.43-.59-.52 0-1.04.2-1.43.59L10.3 9.45l-7.72 7.72c-.78.78-.78 2.05 0 2.83L4 21.41c.39.39.9.59 1.41.59.51 0 1.02-.2 1.41-.59l7.78-7.78 2.81-2.81c.8-.78.8-2.07 0-2.86zM5.41 20L4 18.59l7.72-7.72 1.47 1.35L5.41 20z\"/>\n",
              "  </svg>\n",
              "      </button>\n",
              "      \n",
              "  <style>\n",
              "    .colab-df-container {\n",
              "      display:flex;\n",
              "      flex-wrap:wrap;\n",
              "      gap: 12px;\n",
              "    }\n",
              "\n",
              "    .colab-df-convert {\n",
              "      background-color: #E8F0FE;\n",
              "      border: none;\n",
              "      border-radius: 50%;\n",
              "      cursor: pointer;\n",
              "      display: none;\n",
              "      fill: #1967D2;\n",
              "      height: 32px;\n",
              "      padding: 0 0 0 0;\n",
              "      width: 32px;\n",
              "    }\n",
              "\n",
              "    .colab-df-convert:hover {\n",
              "      background-color: #E2EBFA;\n",
              "      box-shadow: 0px 1px 2px rgba(60, 64, 67, 0.3), 0px 1px 3px 1px rgba(60, 64, 67, 0.15);\n",
              "      fill: #174EA6;\n",
              "    }\n",
              "\n",
              "    [theme=dark] .colab-df-convert {\n",
              "      background-color: #3B4455;\n",
              "      fill: #D2E3FC;\n",
              "    }\n",
              "\n",
              "    [theme=dark] .colab-df-convert:hover {\n",
              "      background-color: #434B5C;\n",
              "      box-shadow: 0px 1px 3px 1px rgba(0, 0, 0, 0.15);\n",
              "      filter: drop-shadow(0px 1px 2px rgba(0, 0, 0, 0.3));\n",
              "      fill: #FFFFFF;\n",
              "    }\n",
              "  </style>\n",
              "\n",
              "      <script>\n",
              "        const buttonEl =\n",
              "          document.querySelector('#df-49f81be1-50b4-4eef-b66c-d3eddc3c63b8 button.colab-df-convert');\n",
              "        buttonEl.style.display =\n",
              "          google.colab.kernel.accessAllowed ? 'block' : 'none';\n",
              "\n",
              "        async function convertToInteractive(key) {\n",
              "          const element = document.querySelector('#df-49f81be1-50b4-4eef-b66c-d3eddc3c63b8');\n",
              "          const dataTable =\n",
              "            await google.colab.kernel.invokeFunction('convertToInteractive',\n",
              "                                                     [key], {});\n",
              "          if (!dataTable) return;\n",
              "\n",
              "          const docLinkHtml = 'Like what you see? Visit the ' +\n",
              "            '<a target=\"_blank\" href=https://colab.research.google.com/notebooks/data_table.ipynb>data table notebook</a>'\n",
              "            + ' to learn more about interactive tables.';\n",
              "          element.innerHTML = '';\n",
              "          dataTable['output_type'] = 'display_data';\n",
              "          await google.colab.output.renderOutput(dataTable, element);\n",
              "          const docLink = document.createElement('div');\n",
              "          docLink.innerHTML = docLinkHtml;\n",
              "          element.appendChild(docLink);\n",
              "        }\n",
              "      </script>\n",
              "    </div>\n",
              "  </div>\n",
              "  "
            ]
          },
          "metadata": {},
          "execution_count": 4
        }
      ]
    },
    {
      "cell_type": "code",
      "source": [
        "data.isnull().sum()"
      ],
      "metadata": {
        "colab": {
          "base_uri": "https://localhost:8080/"
        },
        "id": "bbF_D-3RgqDr",
        "outputId": "0552ed0e-e3a2-479c-c22b-ec7c8aa19502"
      },
      "execution_count": null,
      "outputs": [
        {
          "output_type": "execute_result",
          "data": {
            "text/plain": [
              "Date         0\n",
              "Open         0\n",
              "High         0\n",
              "Low          0\n",
              "Close        0\n",
              "Adj Close    0\n",
              "Volume       0\n",
              "dtype: int64"
            ]
          },
          "metadata": {},
          "execution_count": 5
        }
      ]
    },
    {
      "cell_type": "code",
      "source": [
        "data.shape"
      ],
      "metadata": {
        "colab": {
          "base_uri": "https://localhost:8080/"
        },
        "id": "r063HUyLgqGX",
        "outputId": "0c8fa11a-d63c-422d-9753-82c902fe79fc"
      },
      "execution_count": null,
      "outputs": [
        {
          "output_type": "execute_result",
          "data": {
            "text/plain": [
              "(251, 7)"
            ]
          },
          "metadata": {},
          "execution_count": 6
        }
      ]
    },
    {
      "cell_type": "code",
      "source": [
        "data_close = data['Close']\n",
        "data_close"
      ],
      "metadata": {
        "colab": {
          "base_uri": "https://localhost:8080/"
        },
        "id": "OVNjKMlBgqIm",
        "outputId": "45b67cf2-9562-424d-8611-9a20e0c3d2ca"
      },
      "execution_count": null,
      "outputs": [
        {
          "output_type": "execute_result",
          "data": {
            "text/plain": [
              "0      1819.479980\n",
              "1      1818.550049\n",
              "2      1784.130005\n",
              "3      1775.329956\n",
              "4      1781.770020\n",
              "          ...     \n",
              "246    2922.280029\n",
              "247    2849.040039\n",
              "248    2832.360107\n",
              "249    2875.530029\n",
              "250    2850.409912\n",
              "Name: Close, Length: 251, dtype: float64"
            ]
          },
          "metadata": {},
          "execution_count": 10
        }
      ]
    },
    {
      "cell_type": "code",
      "source": [
        "data_close.reset_index()['Close']"
      ],
      "metadata": {
        "colab": {
          "base_uri": "https://localhost:8080/"
        },
        "id": "0JYb_WmAgqLa",
        "outputId": "913981d6-493c-4fd1-956a-6dda27275638"
      },
      "execution_count": null,
      "outputs": [
        {
          "output_type": "execute_result",
          "data": {
            "text/plain": [
              "0      1819.479980\n",
              "1      1818.550049\n",
              "2      1784.130005\n",
              "3      1775.329956\n",
              "4      1781.770020\n",
              "          ...     \n",
              "246    2922.280029\n",
              "247    2849.040039\n",
              "248    2832.360107\n",
              "249    2875.530029\n",
              "250    2850.409912\n",
              "Name: Close, Length: 251, dtype: float64"
            ]
          },
          "metadata": {},
          "execution_count": 14
        }
      ]
    },
    {
      "cell_type": "code",
      "source": [
        "plt.plot(data_close)"
      ],
      "metadata": {
        "colab": {
          "base_uri": "https://localhost:8080/",
          "height": 282
        },
        "id": "NqFQLTkcgqOL",
        "outputId": "9e5b80c0-cdf3-44bd-ee5b-520261411d0f"
      },
      "execution_count": null,
      "outputs": [
        {
          "output_type": "execute_result",
          "data": {
            "text/plain": [
              "[<matplotlib.lines.Line2D at 0x7fcf3bc687d0>]"
            ]
          },
          "metadata": {},
          "execution_count": 15
        },
        {
          "output_type": "display_data",
          "data": {
            "text/plain": [
              "<Figure size 432x288 with 1 Axes>"
            ],
            "image/png": "[encoded data removed]"
          },
          "metadata": {
            "needs_background": "light"
          }
        }
      ]
    },
    {
      "cell_type": "code",
      "source": [
        "from sklearn.preprocessing import MinMaxScaler"
      ],
      "metadata": {
        "id": "SGLsSj6TgqQ4"
      },
      "execution_count": null,
      "outputs": []
    },
    {
      "cell_type": "code",
      "source": [
        "scaler = MinMaxScaler(feature_range = (0,1))\n",
        "data_close = scaler.fit_transform(np.array(data_close).reshape(-1,1))"
      ],
      "metadata": {
        "id": "izJB8PrAgqT5"
      },
      "execution_count": null,
      "outputs": []
    },
    {
      "cell_type": "code",
      "source": [
        "data_close"
      ],
      "metadata": {
        "colab": {
          "base_uri": "https://localhost:8080/"
        },
        "id": "HTsYWb17gqWb",
        "outputId": "47caf457-60d4-4eab-d5d3-d3a8574b11b0"
      },
      "execution_count": null,
      "outputs": [
        {
          "output_type": "execute_result",
          "data": {
            "text/plain": [
              "array([[0.07436389],\n",
              "       [0.07364339],\n",
              "       [0.04697524],\n",
              "       [0.04015709],\n",
              "       [0.04514676],\n",
              "       [0.0283262 ],\n",
              "       [0.03429977],\n",
              "       [0.03060402],\n",
              "       [0.01890478],\n",
              "       [0.00581865],\n",
              "       [0.01229584],\n",
              "       [0.        ],\n",
              "       [0.0068801 ],\n",
              "       [0.01189294],\n",
              "       [0.04074594],\n",
              "       [0.02728792],\n",
              "       [0.01241208],\n",
              "       [0.02198841],\n",
              "       [0.00367248],\n",
              "       [0.0134968 ],\n",
              "       [0.00913475],\n",
              "       [0.04939257],\n",
              "       [0.06485726],\n",
              "       [0.0334862 ],\n",
              "       [0.01785884],\n",
              "       [0.02394089],\n",
              "       [0.01292346],\n",
              "       [0.00983198],\n",
              "       [0.05218953],\n",
              "       [0.12659996],\n",
              "       [0.12997026],\n",
              "       [0.13756319],\n",
              "       [0.13628477],\n",
              "       [0.15010692],\n",
              "       [0.08312676],\n",
              "       [0.10816778],\n",
              "       [0.08696191],\n",
              "       [0.13779557],\n",
              "       [0.15806398],\n",
              "       [0.26851744],\n",
              "       [0.26255163],\n",
              "       [0.29015714],\n",
              "       [0.28621342],\n",
              "       [0.27893051],\n",
              "       [0.28812711],\n",
              "       [0.28852226],\n",
              "       [0.29489116],\n",
              "       [0.30867444],\n",
              "       [0.31364093],\n",
              "       [0.30503298],\n",
              "       [0.29258989],\n",
              "       [0.26449616],\n",
              "       [0.26912955],\n",
              "       [0.28796444],\n",
              "       [0.23852543],\n",
              "       [0.24278675],\n",
              "       [0.27738094],\n",
              "       [0.27298796],\n",
              "       [0.23492266],\n",
              "       [0.25226245],\n",
              "       [0.29832341],\n",
              "       [0.23295477],\n",
              "       [0.25505932],\n",
              "       [0.25686463],\n",
              "       [0.30315031],\n",
              "       [0.26220282],\n",
              "       [0.26574365],\n",
              "       [0.28591133],\n",
              "       [0.28479569],\n",
              "       [0.24229088],\n",
              "       [0.24769886],\n",
              "       [0.24412711],\n",
              "       [0.25526078],\n",
              "       [0.24914005],\n",
              "       [0.24859764],\n",
              "       [0.24177183],\n",
              "       [0.25757738],\n",
              "       [0.25725978],\n",
              "       [0.2674016 ],\n",
              "       [0.32095486],\n",
              "       [0.38898106],\n",
              "       [0.38836119],\n",
              "       [0.40767654],\n",
              "       [0.41988717],\n",
              "       [0.43572374],\n",
              "       [0.41163578],\n",
              "       [0.42130509],\n",
              "       [0.41167456],\n",
              "       [0.44407595],\n",
              "       [0.44492829],\n",
              "       [0.44852321],\n",
              "       [0.44172832],\n",
              "       [0.44146502],\n",
              "       [0.42180862],\n",
              "       [0.45851805],\n",
              "       [0.46738155],\n",
              "       [0.45218036],\n",
              "       [0.50857683],\n",
              "       [0.54730059],\n",
              "       [0.53198326],\n",
              "       [0.52040007],\n",
              "       [0.48869591],\n",
              "       [0.49062511],\n",
              "       [0.50969267],\n",
              "       [0.52312733],\n",
              "       [0.47894129],\n",
              "       [0.45345093],\n",
              "       [0.39946393],\n",
              "       [0.41719869],\n",
              "       [0.45918426],\n",
              "       [0.46325189],\n",
              "       [0.44932126],\n",
              "       [0.45341215],\n",
              "       [0.49012158],\n",
              "       [0.4816067 ],\n",
              "       [0.5293101 ],\n",
              "       [0.5311697 ],\n",
              "       [0.55012092],\n",
              "       [0.52608706],\n",
              "       [0.53309891],\n",
              "       [0.54723874],\n",
              "       [0.5406298 ],\n",
              "       [0.52771418],\n",
              "       [0.56424524],\n",
              "       [0.57534798],\n",
              "       [0.58833339],\n",
              "       [0.59495765],\n",
              "       [0.61835632],\n",
              "       [0.61241359],\n",
              "       [0.62257111],\n",
              "       [0.61762788],\n",
              "       [0.61241359],\n",
              "       [0.62286544],\n",
              "       [0.61041477],\n",
              "       [0.62416721],\n",
              "       [0.63260454],\n",
              "       [0.62426785],\n",
              "       [0.63698201],\n",
              "       [0.63253475],\n",
              "       [0.62981524],\n",
              "       [0.61740335],\n",
              "       [0.60651758],\n",
              "       [0.62282685],\n",
              "       [0.65924933],\n",
              "       [0.67555085],\n",
              "       [0.68030038],\n",
              "       [0.66634649],\n",
              "       [0.67250599],\n",
              "       [0.68783903],\n",
              "       [0.69450982],\n",
              "       [0.71136916],\n",
              "       [0.6987248 ],\n",
              "       [0.70769669],\n",
              "       [0.66753969],\n",
              "       [0.69616797],\n",
              "       [0.71939602],\n",
              "       [0.73067694],\n",
              "       [0.80021394],\n",
              "       [0.8285477 ],\n",
              "       [0.78441596],\n",
              "       [0.7779852 ],\n",
              "       [0.78044915],\n",
              "       [0.76000246],\n",
              "       [0.771911  ],\n",
              "       [0.77641255],\n",
              "       [0.77251536],\n",
              "       [0.78663968],\n",
              "       [0.78812721],\n",
              "       [0.80309611],\n",
              "       [0.80456038],\n",
              "       [0.79825371],\n",
              "       [0.8091007 ],\n",
              "       [0.80935644],\n",
              "       [0.81725921],\n",
              "       [0.79222585],\n",
              "       [0.78090615],\n",
              "       [0.78622902],\n",
              "       [0.80983671],\n",
              "       [0.85109403],\n",
              "       [0.87122294],\n",
              "       [0.87976885],\n",
              "       [0.86695387],\n",
              "       [0.90456974],\n",
              "       [0.91881021],\n",
              "       [0.91869406],\n",
              "       [0.92458251],\n",
              "       [0.89943281],\n",
              "       [0.90804852],\n",
              "       [0.91957723],\n",
              "       [0.90972974],\n",
              "       [0.91019469],\n",
              "       [0.86382371],\n",
              "       [0.88774918],\n",
              "       [0.88683498],\n",
              "       [0.91472726],\n",
              "       [0.90182697],\n",
              "       [0.8567345 ],\n",
              "       [0.8188243 ],\n",
              "       [0.82857872],\n",
              "       [0.84859925],\n",
              "       [0.86235944],\n",
              "       [0.87485664],\n",
              "       [0.85731558],\n",
              "       [0.77492483],\n",
              "       [0.74915546],\n",
              "       [0.72970071],\n",
              "       [0.77924044],\n",
              "       [0.73744081],\n",
              "       [0.77481645],\n",
              "       [0.79305493],\n",
              "       [0.82143523],\n",
              "       [0.83492436],\n",
              "       [0.81619767],\n",
              "       [0.78312212],\n",
              "       [0.80151552],\n",
              "       [0.85593644],\n",
              "       [0.86001182],\n",
              "       [0.87993153],\n",
              "       [0.89328106],\n",
              "       [0.87147868],\n",
              "       [0.87714241],\n",
              "       [0.81274991],\n",
              "       [0.81504325],\n",
              "       [0.82897387],\n",
              "       [0.93365521],\n",
              "       [0.92902977],\n",
              "       [0.9622137 ],\n",
              "       [0.8925373 ],\n",
              "       [0.92490786],\n",
              "       [0.93927241],\n",
              "       [0.96860568],\n",
              "       [0.97725241],\n",
              "       [0.97896465],\n",
              "       [0.97736855],\n",
              "       [0.93673109],\n",
              "       [0.93862152],\n",
              "       [0.9835203 ],\n",
              "       [0.97953023],\n",
              "       [0.97469558],\n",
              "       [0.97447861],\n",
              "       [1.        ],\n",
              "       [0.98827759],\n",
              "       [0.94374294],\n",
              "       [0.93876093],\n",
              "       [0.93814901],\n",
              "       [0.87753756],\n",
              "       [0.92879729],\n",
              "       [0.87205202],\n",
              "       [0.85912865],\n",
              "       [0.89257608],\n",
              "       [0.87311338]])"
            ]
          },
          "metadata": {},
          "execution_count": 18
        }
      ]
    },
    {
      "cell_type": "code",
      "source": [
        "train_size = int(len(data_close)*0.70)\n",
        "test_size = len(data_close) - train_size\n",
        "train_data, test_data = data_close[0:train_size, :], data_close[train_size:len(data_close), :1]"
      ],
      "metadata": {
        "id": "TSHz1M3rgqZW"
      },
      "execution_count": null,
      "outputs": []
    },
    {
      "cell_type": "code",
      "source": [
        "train_size, test_size"
      ],
      "metadata": {
        "colab": {
          "base_uri": "https://localhost:8080/"
        },
        "id": "i8t913sGgqcK",
        "outputId": "c9149515-4c63-4d34-fe03-58a9a75ceab6"
      },
      "execution_count": null,
      "outputs": [
        {
          "output_type": "execute_result",
          "data": {
            "text/plain": [
              "(175, 76)"
            ]
          },
          "metadata": {},
          "execution_count": 66
        }
      ]
    },
    {
      "cell_type": "code",
      "source": [
        "def create_dataset(dataset,timestep=1):\n",
        "  dataX,dataY = [], []\n",
        "  for i in range(len(dataset)-time_step-1):\n",
        "    a = dataset[i:(i+time_step), 0]\n",
        "    dataX.append(a)\n",
        "    dataY.append(dataset[i + time_step, 0])\n",
        "  return np.array(dataX), np.array(dataY)"
      ],
      "metadata": {
        "id": "BYOAtEULgqkc"
      },
      "execution_count": null,
      "outputs": []
    },
    {
      "cell_type": "code",
      "source": [
        "time_step = 50\n",
        "x_train, y_train = create_dataset(train_data,time_step)\n",
        "x_test, y_test = create_dataset(test_data, time_step)"
      ],
      "metadata": {
        "id": "kGv0H8WOlJQh"
      },
      "execution_count": null,
      "outputs": []
    },
    {
      "cell_type": "code",
      "source": [
        "x_train.shape, x_test.shape, y_train.shape, y_test.shape"
      ],
      "metadata": {
        "colab": {
          "base_uri": "https://localhost:8080/"
        },
        "id": "VDx-M0NFlJTS",
        "outputId": "415389f8-760a-48d3-dfee-52353dc0bafb"
      },
      "execution_count": null,
      "outputs": [
        {
          "output_type": "execute_result",
          "data": {
            "text/plain": [
              "((124, 50), (25, 50), (124,), (25,))"
            ]
          },
          "metadata": {},
          "execution_count": 27
        }
      ]
    },
    {
      "cell_type": "code",
      "source": [
        "x_train = x_train.reshape(x_train.shape[0], x_train.shape[1], 1)\n",
        "x_test = x_test.reshape(x_test.shape[0], x_test.shape[1], 1)"
      ],
      "metadata": {
        "id": "i0l1-18Ylv_V"
      },
      "execution_count": null,
      "outputs": []
    },
    {
      "cell_type": "code",
      "source": [
        "x_train"
      ],
      "metadata": {
        "colab": {
          "base_uri": "https://localhost:8080/"
        },
        "id": "U-UT4SH8lJVq",
        "outputId": "ceaeb264-0664-4e03-cb19-82000321057c"
      },
      "execution_count": null,
      "outputs": [
        {
          "output_type": "execute_result",
          "data": {
            "text/plain": [
              "array([[[0.07436389],\n",
              "        [0.07364339],\n",
              "        [0.04697524],\n",
              "        ...,\n",
              "        [0.30867444],\n",
              "        [0.31364093],\n",
              "        [0.30503298]],\n",
              "\n",
              "       [[0.07364339],\n",
              "        [0.04697524],\n",
              "        [0.04015709],\n",
              "        ...,\n",
              "        [0.31364093],\n",
              "        [0.30503298],\n",
              "        [0.29258989]],\n",
              "\n",
              "       [[0.04697524],\n",
              "        [0.04015709],\n",
              "        [0.04514676],\n",
              "        ...,\n",
              "        [0.30503298],\n",
              "        [0.29258989],\n",
              "        [0.26449616]],\n",
              "\n",
              "       ...,\n",
              "\n",
              "       [[0.5406298 ],\n",
              "        [0.52771418],\n",
              "        [0.56424524],\n",
              "        ...,\n",
              "        [0.80309611],\n",
              "        [0.80456038],\n",
              "        [0.79825371]],\n",
              "\n",
              "       [[0.52771418],\n",
              "        [0.56424524],\n",
              "        [0.57534798],\n",
              "        ...,\n",
              "        [0.80456038],\n",
              "        [0.79825371],\n",
              "        [0.8091007 ]],\n",
              "\n",
              "       [[0.56424524],\n",
              "        [0.57534798],\n",
              "        [0.58833339],\n",
              "        ...,\n",
              "        [0.79825371],\n",
              "        [0.8091007 ],\n",
              "        [0.80935644]]])"
            ]
          },
          "metadata": {},
          "execution_count": 30
        }
      ]
    },
    {
      "cell_type": "code",
      "source": [
        "model = Sequential()\n",
        "\n",
        "model.add(LSTM(64, activation='relu', return_sequences=True, input_shape=(50,1)))\n",
        "\n",
        "model.add(LSTM(32, activation='relu', return_sequences=True))\n",
        "\n",
        "model.add(LSTM(16))\n",
        "\n",
        "model.add(Dense(1))\n",
        "\n",
        "model.compile(optimizer = 'adam', loss = 'mean_squared_error')"
      ],
      "metadata": {
        "id": "MfpJ1T3ulJYK"
      },
      "execution_count": null,
      "outputs": []
    },
    {
      "cell_type": "code",
      "source": [
        "model.summary()"
      ],
      "metadata": {
        "colab": {
          "base_uri": "https://localhost:8080/"
        },
        "id": "-EG56V_WlJav",
        "outputId": "d5ce1410-eab0-4cf9-a9ab-ac1c3e235c53"
      },
      "execution_count": null,
      "outputs": [
        {
          "output_type": "stream",
          "name": "stdout",
          "text": [
            "Model: \"sequential\"\n",
            "_________________________________________________________________\n",
            " Layer (type)                Output Shape              Param #   \n",
            "=================================================================\n",
            " lstm (LSTM)                 (None, 50, 64)            16896     \n",
            "                                                                 \n",
            " lstm_1 (LSTM)               (None, 50, 32)            12416     \n",
            "                                                                 \n",
            " lstm_2 (LSTM)               (None, 16)                3136      \n",
            "                                                                 \n",
            " dense (Dense)               (None, 1)                 17        \n",
            "                                                                 \n",
            "=================================================================\n",
            "Total params: 32,465\n",
            "Trainable params: 32,465\n",
            "Non-trainable params: 0\n",
            "_________________________________________________________________\n"
          ]
        }
      ]
    },
    {
      "cell_type": "code",
      "source": [
        "model.fit(x_train,y_train, validation_data=(x_test,y_test), epochs = 50, verbose=1)"
      ],
      "metadata": {
        "colab": {
          "base_uri": "https://localhost:8080/"
        },
        "id": "O32nKmgglJdQ",
        "outputId": "65b81aff-5a6f-48e3-b071-588f5ddfceb7"
      },
      "execution_count": null,
      "outputs": [
        {
          "output_type": "stream",
          "name": "stdout",
          "text": [
            "Epoch 1/50\n",
            "4/4 [==============================] - 13s 776ms/step - loss: 0.2468 - val_loss: 0.6150\n",
            "Epoch 2/50\n",
            "4/4 [==============================] - 1s 150ms/step - loss: 0.1601 - val_loss: 0.3180\n",
            "Epoch 3/50\n",
            "4/4 [==============================] - 1s 152ms/step - loss: 0.0563 - val_loss: 0.0294\n",
            "Epoch 4/50\n",
            "4/4 [==============================] - 1s 143ms/step - loss: 0.0164 - val_loss: 0.0446\n",
            "Epoch 5/50\n",
            "4/4 [==============================] - 1s 140ms/step - loss: 0.0261 - val_loss: 0.0061\n",
            "Epoch 6/50\n",
            "4/4 [==============================] - 1s 158ms/step - loss: 0.0093 - val_loss: 0.0585\n",
            "Epoch 7/50\n",
            "4/4 [==============================] - 1s 149ms/step - loss: 0.0129 - val_loss: 0.0777\n",
            "Epoch 8/50\n",
            "4/4 [==============================] - 1s 151ms/step - loss: 0.0135 - val_loss: 0.0544\n",
            "Epoch 9/50\n",
            "4/4 [==============================] - 1s 159ms/step - loss: 0.0088 - val_loss: 0.0245\n",
            "Epoch 10/50\n",
            "4/4 [==============================] - 1s 156ms/step - loss: 0.0068 - val_loss: 0.0097\n",
            "Epoch 11/50\n",
            "4/4 [==============================] - 1s 167ms/step - loss: 0.0069 - val_loss: 0.0078\n",
            "Epoch 12/50\n",
            "4/4 [==============================] - 1s 133ms/step - loss: 0.0059 - val_loss: 0.0128\n",
            "Epoch 13/50\n",
            "4/4 [==============================] - 1s 146ms/step - loss: 0.0048 - val_loss: 0.0097\n",
            "Epoch 14/50\n",
            "4/4 [==============================] - 1s 135ms/step - loss: 0.0039 - val_loss: 0.0046\n",
            "Epoch 15/50\n",
            "4/4 [==============================] - 1s 133ms/step - loss: 0.0030 - val_loss: 0.0053\n",
            "Epoch 16/50\n",
            "4/4 [==============================] - 1s 146ms/step - loss: 0.0025 - val_loss: 0.0068\n",
            "Epoch 17/50\n",
            "4/4 [==============================] - 1s 145ms/step - loss: 0.0025 - val_loss: 0.0156\n",
            "Epoch 18/50\n",
            "4/4 [==============================] - 1s 139ms/step - loss: 0.0026 - val_loss: 0.0132\n",
            "Epoch 19/50\n",
            "4/4 [==============================] - 1s 144ms/step - loss: 0.0025 - val_loss: 0.0084\n",
            "Epoch 20/50\n",
            "4/4 [==============================] - 1s 156ms/step - loss: 0.0024 - val_loss: 0.0122\n",
            "Epoch 21/50\n",
            "4/4 [==============================] - 1s 138ms/step - loss: 0.0024 - val_loss: 0.0076\n",
            "Epoch 22/50\n",
            "4/4 [==============================] - 1s 161ms/step - loss: 0.0024 - val_loss: 0.0067\n",
            "Epoch 23/50\n",
            "4/4 [==============================] - 1s 147ms/step - loss: 0.0024 - val_loss: 0.0092\n",
            "Epoch 24/50\n",
            "4/4 [==============================] - 1s 136ms/step - loss: 0.0024 - val_loss: 0.0061\n",
            "Epoch 25/50\n",
            "4/4 [==============================] - 1s 140ms/step - loss: 0.0023 - val_loss: 0.0071\n",
            "Epoch 26/50\n",
            "4/4 [==============================] - 1s 143ms/step - loss: 0.0023 - val_loss: 0.0079\n",
            "Epoch 27/50\n",
            "4/4 [==============================] - 1s 148ms/step - loss: 0.0023 - val_loss: 0.0060\n",
            "Epoch 28/50\n",
            "4/4 [==============================] - 1s 152ms/step - loss: 0.0023 - val_loss: 0.0084\n",
            "Epoch 29/50\n",
            "4/4 [==============================] - 1s 149ms/step - loss: 0.0023 - val_loss: 0.0072\n",
            "Epoch 30/50\n",
            "4/4 [==============================] - 1s 138ms/step - loss: 0.0023 - val_loss: 0.0067\n",
            "Epoch 31/50\n",
            "4/4 [==============================] - 1s 153ms/step - loss: 0.0023 - val_loss: 0.0074\n",
            "Epoch 32/50\n",
            "4/4 [==============================] - 1s 154ms/step - loss: 0.0023 - val_loss: 0.0061\n",
            "Epoch 33/50\n",
            "4/4 [==============================] - 1s 149ms/step - loss: 0.0023 - val_loss: 0.0077\n",
            "Epoch 34/50\n",
            "4/4 [==============================] - 1s 140ms/step - loss: 0.0023 - val_loss: 0.0073\n",
            "Epoch 35/50\n",
            "4/4 [==============================] - 1s 145ms/step - loss: 0.0022 - val_loss: 0.0058\n",
            "Epoch 36/50\n",
            "4/4 [==============================] - 1s 141ms/step - loss: 0.0023 - val_loss: 0.0069\n",
            "Epoch 37/50\n",
            "4/4 [==============================] - 1s 138ms/step - loss: 0.0022 - val_loss: 0.0072\n",
            "Epoch 38/50\n",
            "4/4 [==============================] - 1s 147ms/step - loss: 0.0023 - val_loss: 0.0062\n",
            "Epoch 39/50\n",
            "4/4 [==============================] - 1s 136ms/step - loss: 0.0022 - val_loss: 0.0072\n",
            "Epoch 40/50\n",
            "4/4 [==============================] - 1s 143ms/step - loss: 0.0023 - val_loss: 0.0063\n",
            "Epoch 41/50\n",
            "4/4 [==============================] - 1s 142ms/step - loss: 0.0023 - val_loss: 0.0057\n",
            "Epoch 42/50\n",
            "4/4 [==============================] - 1s 150ms/step - loss: 0.0023 - val_loss: 0.0083\n",
            "Epoch 43/50\n",
            "4/4 [==============================] - 1s 134ms/step - loss: 0.0023 - val_loss: 0.0049\n",
            "Epoch 44/50\n",
            "4/4 [==============================] - 1s 151ms/step - loss: 0.0022 - val_loss: 0.0074\n",
            "Epoch 45/50\n",
            "4/4 [==============================] - 1s 150ms/step - loss: 0.0023 - val_loss: 0.0070\n",
            "Epoch 46/50\n",
            "4/4 [==============================] - 1s 148ms/step - loss: 0.0022 - val_loss: 0.0060\n",
            "Epoch 47/50\n",
            "4/4 [==============================] - 1s 136ms/step - loss: 0.0022 - val_loss: 0.0059\n",
            "Epoch 48/50\n",
            "4/4 [==============================] - 1s 154ms/step - loss: 0.0022 - val_loss: 0.0061\n",
            "Epoch 49/50\n",
            "4/4 [==============================] - 1s 144ms/step - loss: 0.0022 - val_loss: 0.0060\n",
            "Epoch 50/50\n",
            "4/4 [==============================] - 1s 141ms/step - loss: 0.0022 - val_loss: 0.0063\n"
          ]
        },
        {
          "output_type": "execute_result",
          "data": {
            "text/plain": [
              "<keras.callbacks.History at 0x7fcf370cca50>"
            ]
          },
          "metadata": {},
          "execution_count": 33
        }
      ]
    },
    {
      "cell_type": "code",
      "source": [
        "train_predict = model.predict(x_train)\n",
        "test_predict = model.predict(x_test)"
      ],
      "metadata": {
        "id": "v-zgWAjzlJfq"
      },
      "execution_count": null,
      "outputs": []
    },
    {
      "cell_type": "code",
      "source": [
        "train_predict"
      ],
      "metadata": {
        "colab": {
          "base_uri": "https://localhost:8080/"
        },
        "id": "8IYmgCqmtggO",
        "outputId": "775e24ed-e4a9-4fb8-b95c-8d8443f4a8c7"
      },
      "execution_count": null,
      "outputs": [
        {
          "output_type": "execute_result",
          "data": {
            "text/plain": [
              "array([[0.22393696],\n",
              "       [0.23526266],\n",
              "       [0.24590284],\n",
              "       [0.25570127],\n",
              "       [0.2646921 ],\n",
              "       [0.27256292],\n",
              "       [0.27926883],\n",
              "       [0.28505647],\n",
              "       [0.29006374],\n",
              "       [0.29416   ],\n",
              "       [0.29747146],\n",
              "       [0.3004123 ],\n",
              "       [0.30275792],\n",
              "       [0.30461553],\n",
              "       [0.30607164],\n",
              "       [0.3075093 ],\n",
              "       [0.3088391 ],\n",
              "       [0.31006965],\n",
              "       [0.31133044],\n",
              "       [0.3126755 ],\n",
              "       [0.3138146 ],\n",
              "       [0.31468424],\n",
              "       [0.31520265],\n",
              "       [0.31544638],\n",
              "       [0.31545365],\n",
              "       [0.315246  ],\n",
              "       [0.31480122],\n",
              "       [0.31425726],\n",
              "       [0.313679  ],\n",
              "       [0.31315053],\n",
              "       [0.31308383],\n",
              "       [0.3141573 ],\n",
              "       [0.3165784 ],\n",
              "       [0.3205061 ],\n",
              "       [0.32594612],\n",
              "       [0.33290446],\n",
              "       [0.34094268],\n",
              "       [0.3498309 ],\n",
              "       [0.3591383 ],\n",
              "       [0.3687925 ],\n",
              "       [0.37857503],\n",
              "       [0.38843125],\n",
              "       [0.39815557],\n",
              "       [0.4076249 ],\n",
              "       [0.4165994 ],\n",
              "       [0.42518044],\n",
              "       [0.43343303],\n",
              "       [0.4412669 ],\n",
              "       [0.44901538],\n",
              "       [0.4570312 ],\n",
              "       [0.4653202 ],\n",
              "       [0.47377416],\n",
              "       [0.482081  ],\n",
              "       [0.49005434],\n",
              "       [0.49768823],\n",
              "       [0.5050659 ],\n",
              "       [0.51185834],\n",
              "       [0.51779085],\n",
              "       [0.5224444 ],\n",
              "       [0.52583706],\n",
              "       [0.52824533],\n",
              "       [0.5298665 ],\n",
              "       [0.53085726],\n",
              "       [0.5313329 ],\n",
              "       [0.53167194],\n",
              "       [0.53196305],\n",
              "       [0.53266615],\n",
              "       [0.5339006 ],\n",
              "       [0.5358333 ],\n",
              "       [0.5383224 ],\n",
              "       [0.54133326],\n",
              "       [0.54482824],\n",
              "       [0.5486793 ],\n",
              "       [0.5526817 ],\n",
              "       [0.5569616 ],\n",
              "       [0.56154865],\n",
              "       [0.5665001 ],\n",
              "       [0.5718099 ],\n",
              "       [0.57759386],\n",
              "       [0.5837595 ],\n",
              "       [0.59026074],\n",
              "       [0.59696764],\n",
              "       [0.60377157],\n",
              "       [0.6106071 ],\n",
              "       [0.6173008 ],\n",
              "       [0.6238448 ],\n",
              "       [0.6302615 ],\n",
              "       [0.6364364 ],\n",
              "       [0.64242023],\n",
              "       [0.64814025],\n",
              "       [0.6535701 ],\n",
              "       [0.6585944 ],\n",
              "       [0.6631048 ],\n",
              "       [0.66717887],\n",
              "       [0.6711    ],\n",
              "       [0.6750374 ],\n",
              "       [0.67912   ],\n",
              "       [0.6832949 ],\n",
              "       [0.6875461 ],\n",
              "       [0.6919547 ],\n",
              "       [0.6965651 ],\n",
              "       [0.70145357],\n",
              "       [0.70650464],\n",
              "       [0.7116918 ],\n",
              "       [0.7166479 ],\n",
              "       [0.7214622 ],\n",
              "       [0.72627795],\n",
              "       [0.73116285],\n",
              "       [0.7366406 ],\n",
              "       [0.742958  ],\n",
              "       [0.7498167 ],\n",
              "       [0.7570768 ],\n",
              "       [0.76459473],\n",
              "       [0.7720389 ],\n",
              "       [0.77931637],\n",
              "       [0.78636414],\n",
              "       [0.79304975],\n",
              "       [0.79944706],\n",
              "       [0.8055349 ],\n",
              "       [0.81144077],\n",
              "       [0.8171694 ],\n",
              "       [0.8226735 ],\n",
              "       [0.82802707],\n",
              "       [0.83322865]], dtype=float32)"
            ]
          },
          "metadata": {},
          "execution_count": 70
        }
      ]
    },
    {
      "cell_type": "code",
      "source": [
        "# train_predict = scaler.inverse_transform(train_predict)\n",
        "# test_predict = scaler.inverse_transform(test_predict)"
      ],
      "metadata": {
        "id": "mxNNkHZ0lJiH"
      },
      "execution_count": null,
      "outputs": []
    },
    {
      "cell_type": "code",
      "source": [
        "math.sqrt(mean_squared_error(y_train,train_predict))"
      ],
      "metadata": {
        "colab": {
          "base_uri": "https://localhost:8080/"
        },
        "id": "CdVySVqGlJj5",
        "outputId": "909ffa5d-8434-42d7-eea9-f13d6804fbf0"
      },
      "execution_count": null,
      "outputs": [
        {
          "output_type": "execute_result",
          "data": {
            "text/plain": [
              "0.04653203466756726"
            ]
          },
          "metadata": {},
          "execution_count": 42
        }
      ]
    },
    {
      "cell_type": "code",
      "source": [
        "math.sqrt(mean_squared_error(y_test,test_predict))"
      ],
      "metadata": {
        "colab": {
          "base_uri": "https://localhost:8080/"
        },
        "id": "nkVNVqKugqnc",
        "outputId": "0985de17-6352-4e4d-f655-ffb8c565cfa4"
      },
      "execution_count": null,
      "outputs": [
        {
          "output_type": "execute_result",
          "data": {
            "text/plain": [
              "0.07943654564520199"
            ]
          },
          "metadata": {},
          "execution_count": 43
        }
      ]
    },
    {
      "cell_type": "code",
      "source": [
        "from sklearn.metrics import mean_absolute_percentage_error"
      ],
      "metadata": {
        "id": "75x2SEBBgqqC"
      },
      "execution_count": null,
      "outputs": []
    },
    {
      "cell_type": "code",
      "source": [
        "np.round(100 - mean_absolute_percentage_error(y_test,test_predict)*100,2)"
      ],
      "metadata": {
        "colab": {
          "base_uri": "https://localhost:8080/"
        },
        "id": "VstsO-JNgqsU",
        "outputId": "c54844be-afc0-4d56-9fcb-bc5684a4f6bb"
      },
      "execution_count": null,
      "outputs": [
        {
          "output_type": "execute_result",
          "data": {
            "text/plain": [
              "93.86"
            ]
          },
          "metadata": {},
          "execution_count": 45
        }
      ]
    },
    {
      "cell_type": "code",
      "source": [
        "np.round(100- mean_absolute_percentage_error(y_train, train_predict)*100,2)"
      ],
      "metadata": {
        "colab": {
          "base_uri": "https://localhost:8080/"
        },
        "id": "b53meX3_ofVq",
        "outputId": "2c1e2e39-0007-4711-8fbb-155058d55123"
      },
      "execution_count": null,
      "outputs": [
        {
          "output_type": "execute_result",
          "data": {
            "text/plain": [
              "90.84"
            ]
          },
          "metadata": {},
          "execution_count": 46
        }
      ]
    },
    {
      "cell_type": "code",
      "source": [
        "len(test_predict)"
      ],
      "metadata": {
        "colab": {
          "base_uri": "https://localhost:8080/"
        },
        "id": "A7Ofs_K3offB",
        "outputId": "b869995f-5e2a-4bb7-ac5d-46da81e92cfb"
      },
      "execution_count": null,
      "outputs": [
        {
          "output_type": "execute_result",
          "data": {
            "text/plain": [
              "25"
            ]
          },
          "metadata": {},
          "execution_count": 71
        }
      ]
    },
    {
      "cell_type": "code",
      "source": [
        "x_input=test_data[36:].reshape(1,-1)\n",
        "x_input.shape"
      ],
      "metadata": {
        "colab": {
          "base_uri": "https://localhost:8080/"
        },
        "id": "kqfVIKWGqWIK",
        "outputId": "fe28d2e5-7196-4e60-b4df-b5c40b342b53"
      },
      "execution_count": null,
      "outputs": [
        {
          "output_type": "execute_result",
          "data": {
            "text/plain": [
              "(1, 40)"
            ]
          },
          "metadata": {},
          "execution_count": 58
        }
      ]
    },
    {
      "cell_type": "code",
      "source": [
        "data_output = pd.DataFrame(data=data_close)\n",
        "data_output"
      ],
      "metadata": {
        "colab": {
          "base_uri": "https://localhost:8080/",
          "height": 423
        },
        "id": "8JxzQijcsWyM",
        "outputId": "657320a9-5aea-4b96-ee51-1fef29d3a716"
      },
      "execution_count": null,
      "outputs": [
        {
          "output_type": "execute_result",
          "data": {
            "text/plain": [
              "            0\n",
              "0    0.074364\n",
              "1    0.073643\n",
              "2    0.046975\n",
              "3    0.040157\n",
              "4    0.045147\n",
              "..        ...\n",
              "246  0.928797\n",
              "247  0.872052\n",
              "248  0.859129\n",
              "249  0.892576\n",
              "250  0.873113\n",
              "\n",
              "[251 rows x 1 columns]"
            ],
            "text/html": [
              "\n",
              "  <div id=\"df-2b207a76-609d-48df-8f0d-a86976e4023f\">\n",
              "    <div class=\"colab-df-container\">\n",
              "      <div>\n",
              "<style scoped>\n",
              "    .dataframe tbody tr th:only-of-type {\n",
              "        vertical-align: middle;\n",
              "    }\n",
              "\n",
              "    .dataframe tbody tr th {\n",
              "        vertical-align: top;\n",
              "    }\n",
              "\n",
              "    .dataframe thead th {\n",
              "        text-align: right;\n",
              "    }\n",
              "</style>\n",
              "<table border=\"1\" class=\"dataframe\">\n",
              "  <thead>\n",
              "    <tr style=\"text-align: right;\">\n",
              "      <th></th>\n",
              "      <th>0</th>\n",
              "    </tr>\n",
              "  </thead>\n",
              "  <tbody>\n",
              "    <tr>\n",
              "      <th>0</th>\n",
              "      <td>0.074364</td>\n",
              "    </tr>\n",
              "    <tr>\n",
              "      <th>1</th>\n",
              "      <td>0.073643</td>\n",
              "    </tr>\n",
              "    <tr>\n",
              "      <th>2</th>\n",
              "      <td>0.046975</td>\n",
              "    </tr>\n",
              "    <tr>\n",
              "      <th>3</th>\n",
              "      <td>0.040157</td>\n",
              "    </tr>\n",
              "    <tr>\n",
              "      <th>4</th>\n",
              "      <td>0.045147</td>\n",
              "    </tr>\n",
              "    <tr>\n",
              "      <th>...</th>\n",
              "      <td>...</td>\n",
              "    </tr>\n",
              "    <tr>\n",
              "      <th>246</th>\n",
              "      <td>0.928797</td>\n",
              "    </tr>\n",
              "    <tr>\n",
              "      <th>247</th>\n",
              "      <td>0.872052</td>\n",
              "    </tr>\n",
              "    <tr>\n",
              "      <th>248</th>\n",
              "      <td>0.859129</td>\n",
              "    </tr>\n",
              "    <tr>\n",
              "      <th>249</th>\n",
              "      <td>0.892576</td>\n",
              "    </tr>\n",
              "    <tr>\n",
              "      <th>250</th>\n",
              "      <td>0.873113</td>\n",
              "    </tr>\n",
              "  </tbody>\n",
              "</table>\n",
              "<p>251 rows × 1 columns</p>\n",
              "</div>\n",
              "      <button class=\"colab-df-convert\" onclick=\"convertToInteractive('df-2b207a76-609d-48df-8f0d-a86976e4023f')\"\n",
              "              title=\"Convert this dataframe to an interactive table.\"\n",
              "              style=\"display:none;\">\n",
              "        \n",
              "  <svg xmlns=\"http://www.w3.org/2000/svg\" height=\"24px\"viewBox=\"0 0 24 24\"\n",
              "       width=\"24px\">\n",
              "    <path d=\"M0 0h24v24H0V0z\" fill=\"none\"/>\n",
              "    <path d=\"M18.56 5.44l.94 2.06.94-2.06 2.06-.94-2.06-.94-.94-2.06-.94 2.06-2.06.94zm-11 1L8.5 8.5l.94-2.06 2.06-.94-2.06-.94L8.5 2.5l-.94 2.06-2.06.94zm10 10l.94 2.06.94-2.06 2.06-.94-2.06-.94-.94-2.06-.94 2.06-2.06.94z\"/><path d=\"M17.41 7.96l-1.37-1.37c-.4-.4-.92-.59-1.43-.59-.52 0-1.04.2-1.43.59L10.3 9.45l-7.72 7.72c-.78.78-.78 2.05 0 2.83L4 21.41c.39.39.9.59 1.41.59.51 0 1.02-.2 1.41-.59l7.78-7.78 2.81-2.81c.8-.78.8-2.07 0-2.86zM5.41 20L4 18.59l7.72-7.72 1.47 1.35L5.41 20z\"/>\n",
              "  </svg>\n",
              "      </button>\n",
              "      \n",
              "  <style>\n",
              "    .colab-df-container {\n",
              "      display:flex;\n",
              "      flex-wrap:wrap;\n",
              "      gap: 12px;\n",
              "    }\n",
              "\n",
              "    .colab-df-convert {\n",
              "      background-color: #E8F0FE;\n",
              "      border: none;\n",
              "      border-radius: 50%;\n",
              "      cursor: pointer;\n",
              "      display: none;\n",
              "      fill: #1967D2;\n",
              "      height: 32px;\n",
              "      padding: 0 0 0 0;\n",
              "      width: 32px;\n",
              "    }\n",
              "\n",
              "    .colab-df-convert:hover {\n",
              "      background-color: #E2EBFA;\n",
              "      box-shadow: 0px 1px 2px rgba(60, 64, 67, 0.3), 0px 1px 3px 1px rgba(60, 64, 67, 0.15);\n",
              "      fill: #174EA6;\n",
              "    }\n",
              "\n",
              "    [theme=dark] .colab-df-convert {\n",
              "      background-color: #3B4455;\n",
              "      fill: #D2E3FC;\n",
              "    }\n",
              "\n",
              "    [theme=dark] .colab-df-convert:hover {\n",
              "      background-color: #434B5C;\n",
              "      box-shadow: 0px 1px 3px 1px rgba(0, 0, 0, 0.15);\n",
              "      filter: drop-shadow(0px 1px 2px rgba(0, 0, 0, 0.3));\n",
              "      fill: #FFFFFF;\n",
              "    }\n",
              "  </style>\n",
              "\n",
              "      <script>\n",
              "        const buttonEl =\n",
              "          document.querySelector('#df-2b207a76-609d-48df-8f0d-a86976e4023f button.colab-df-convert');\n",
              "        buttonEl.style.display =\n",
              "          google.colab.kernel.accessAllowed ? 'block' : 'none';\n",
              "\n",
              "        async function convertToInteractive(key) {\n",
              "          const element = document.querySelector('#df-2b207a76-609d-48df-8f0d-a86976e4023f');\n",
              "          const dataTable =\n",
              "            await google.colab.kernel.invokeFunction('convertToInteractive',\n",
              "                                                     [key], {});\n",
              "          if (!dataTable) return;\n",
              "\n",
              "          const docLinkHtml = 'Like what you see? Visit the ' +\n",
              "            '<a target=\"_blank\" href=https://colab.research.google.com/notebooks/data_table.ipynb>data table notebook</a>'\n",
              "            + ' to learn more about interactive tables.';\n",
              "          element.innerHTML = '';\n",
              "          dataTable['output_type'] = 'display_data';\n",
              "          await google.colab.output.renderOutput(dataTable, element);\n",
              "          const docLink = document.createElement('div');\n",
              "          docLink.innerHTML = docLinkHtml;\n",
              "          element.appendChild(docLink);\n",
              "        }\n",
              "      </script>\n",
              "    </div>\n",
              "  </div>\n",
              "  "
            ]
          },
          "metadata": {},
          "execution_count": 67
        }
      ]
    },
    {
      "cell_type": "code",
      "source": [
        ""
      ],
      "metadata": {
        "id": "suaXqddJqWP9"
      },
      "execution_count": null,
      "outputs": []
    },
    {
      "cell_type": "code",
      "source": [
        ""
      ],
      "metadata": {
        "id": "J451j8kxqWSj"
      },
      "execution_count": null,
      "outputs": []
    },
    {
      "cell_type": "code",
      "source": [
        ""
      ],
      "metadata": {
        "id": "v7lKrornqWU6"
      },
      "execution_count": null,
      "outputs": []
    },
    {
      "cell_type": "code",
      "source": [
        ""
      ],
      "metadata": {
        "id": "vPwECJvsqWXx"
      },
      "execution_count": null,
      "outputs": []
    },
    {
      "cell_type": "code",
      "source": [
        ""
      ],
      "metadata": {
        "id": "cWnT58n5qWaP"
      },
      "execution_count": null,
      "outputs": []
    },
    {
      "cell_type": "code",
      "source": [
        ""
      ],
      "metadata": {
        "id": "yGGUz80qqWc3"
      },
      "execution_count": null,
      "outputs": []
    },
    {
      "cell_type": "code",
      "source": [
        ""
      ],
      "metadata": {
        "id": "jz1EDrL-qWf0"
      },
      "execution_count": null,
      "outputs": []
    },
    {
      "cell_type": "code",
      "source": [
        ""
      ],
      "metadata": {
        "id": "ksZHkoYbqWiF"
      },
      "execution_count": null,
      "outputs": []
    }
  ]
}